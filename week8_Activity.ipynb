{
 "cells": [
  {
   "cell_type": "markdown",
   "id": "ee8db77e",
   "metadata": {},
   "source": [
    "Q&A Activity on Testing of Hypothesis\n",
    "\n",
    "1.Carry out descriptive analytics on the dataset.\n",
    "2.Check whether female and male students scored the same marks.\n",
    "3.Whether test preparation helps the students?"
   ]
  },
  {
   "cell_type": "code",
   "execution_count": 57,
   "id": "9aaa9b2c",
   "metadata": {},
   "outputs": [],
   "source": [
    "import numpy as np\n",
    "import pandas as pd\n",
    "import scipy.stats as stats\n",
    "from scipy.stats import ttest_ind"
   ]
  },
  {
   "cell_type": "code",
   "execution_count": 19,
   "id": "e7aa8f91",
   "metadata": {},
   "outputs": [
    {
     "data": {
      "text/html": [
       "<div>\n",
       "<style scoped>\n",
       "    .dataframe tbody tr th:only-of-type {\n",
       "        vertical-align: middle;\n",
       "    }\n",
       "\n",
       "    .dataframe tbody tr th {\n",
       "        vertical-align: top;\n",
       "    }\n",
       "\n",
       "    .dataframe thead th {\n",
       "        text-align: right;\n",
       "    }\n",
       "</style>\n",
       "<table border=\"1\" class=\"dataframe\">\n",
       "  <thead>\n",
       "    <tr style=\"text-align: right;\">\n",
       "      <th></th>\n",
       "      <th>Gender</th>\n",
       "      <th>Test preparation</th>\n",
       "      <th>Total Marks</th>\n",
       "    </tr>\n",
       "  </thead>\n",
       "  <tbody>\n",
       "    <tr>\n",
       "      <th>0</th>\n",
       "      <td>male</td>\n",
       "      <td>none</td>\n",
       "      <td>14</td>\n",
       "    </tr>\n",
       "    <tr>\n",
       "      <th>1</th>\n",
       "      <td>female</td>\n",
       "      <td>none</td>\n",
       "      <td>28</td>\n",
       "    </tr>\n",
       "    <tr>\n",
       "      <th>2</th>\n",
       "      <td>female</td>\n",
       "      <td>none</td>\n",
       "      <td>18</td>\n",
       "    </tr>\n",
       "    <tr>\n",
       "      <th>3</th>\n",
       "      <td>female</td>\n",
       "      <td>none</td>\n",
       "      <td>48</td>\n",
       "    </tr>\n",
       "    <tr>\n",
       "      <th>4</th>\n",
       "      <td>female</td>\n",
       "      <td>none</td>\n",
       "      <td>21</td>\n",
       "    </tr>\n",
       "  </tbody>\n",
       "</table>\n",
       "</div>"
      ],
      "text/plain": [
       "   Gender Test preparation  Total Marks\n",
       "0    male             none           14\n",
       "1  female             none           28\n",
       "2  female             none           18\n",
       "3  female             none           48\n",
       "4  female             none           21"
      ]
     },
     "execution_count": 19,
     "metadata": {},
     "output_type": "execute_result"
    }
   ],
   "source": [
    "data=pd.read_csv('Week_8_Q&A_dataset - Sheet1.csv')\n",
    "data.head()"
   ]
  },
  {
   "cell_type": "code",
   "execution_count": 20,
   "id": "ba7384a7",
   "metadata": {},
   "outputs": [
    {
     "name": "stdout",
     "output_type": "stream",
     "text": [
      "<class 'pandas.core.frame.DataFrame'>\n",
      "RangeIndex: 28 entries, 0 to 27\n",
      "Data columns (total 3 columns):\n",
      " #   Column            Non-Null Count  Dtype \n",
      "---  ------            --------------  ----- \n",
      " 0   Gender            28 non-null     object\n",
      " 1   Test preparation  28 non-null     object\n",
      " 2   Total Marks       28 non-null     int64 \n",
      "dtypes: int64(1), object(2)\n",
      "memory usage: 800.0+ bytes\n"
     ]
    }
   ],
   "source": [
    "data.info()"
   ]
  },
  {
   "cell_type": "markdown",
   "id": "8a281577",
   "metadata": {},
   "source": [
    "1.Carry out descriptive analytics on the dataset."
   ]
  },
  {
   "cell_type": "code",
   "execution_count": 63,
   "id": "f7df5879",
   "metadata": {},
   "outputs": [
    {
     "data": {
      "text/html": [
       "<div>\n",
       "<style scoped>\n",
       "    .dataframe tbody tr th:only-of-type {\n",
       "        vertical-align: middle;\n",
       "    }\n",
       "\n",
       "    .dataframe tbody tr th {\n",
       "        vertical-align: top;\n",
       "    }\n",
       "\n",
       "    .dataframe thead th {\n",
       "        text-align: right;\n",
       "    }\n",
       "</style>\n",
       "<table border=\"1\" class=\"dataframe\">\n",
       "  <thead>\n",
       "    <tr style=\"text-align: right;\">\n",
       "      <th></th>\n",
       "      <th>Total Marks</th>\n",
       "    </tr>\n",
       "  </thead>\n",
       "  <tbody>\n",
       "    <tr>\n",
       "      <th>count</th>\n",
       "      <td>28.000000</td>\n",
       "    </tr>\n",
       "    <tr>\n",
       "      <th>mean</th>\n",
       "      <td>32.321429</td>\n",
       "    </tr>\n",
       "    <tr>\n",
       "      <th>std</th>\n",
       "      <td>12.454520</td>\n",
       "    </tr>\n",
       "    <tr>\n",
       "      <th>min</th>\n",
       "      <td>12.000000</td>\n",
       "    </tr>\n",
       "    <tr>\n",
       "      <th>25%</th>\n",
       "      <td>22.500000</td>\n",
       "    </tr>\n",
       "    <tr>\n",
       "      <th>50%</th>\n",
       "      <td>33.000000</td>\n",
       "    </tr>\n",
       "    <tr>\n",
       "      <th>75%</th>\n",
       "      <td>43.250000</td>\n",
       "    </tr>\n",
       "    <tr>\n",
       "      <th>max</th>\n",
       "      <td>50.000000</td>\n",
       "    </tr>\n",
       "  </tbody>\n",
       "</table>\n",
       "</div>"
      ],
      "text/plain": [
       "       Total Marks\n",
       "count    28.000000\n",
       "mean     32.321429\n",
       "std      12.454520\n",
       "min      12.000000\n",
       "25%      22.500000\n",
       "50%      33.000000\n",
       "75%      43.250000\n",
       "max      50.000000"
      ]
     },
     "execution_count": 63,
     "metadata": {},
     "output_type": "execute_result"
    }
   ],
   "source": [
    "data.describe()"
   ]
  },
  {
   "cell_type": "markdown",
   "id": "bff3e29c",
   "metadata": {},
   "source": [
    "2. Check whether female and male students scored the same marks."
   ]
  },
  {
   "cell_type": "code",
   "execution_count": 22,
   "id": "dcbbaf67",
   "metadata": {},
   "outputs": [],
   "source": [
    "maledata=data[data['Gender']=='male']['Total Marks']\n",
    "femaledata=data[data['Gender']=='female']['Total Marks']"
   ]
  },
  {
   "cell_type": "code",
   "execution_count": 23,
   "id": "a54fda77",
   "metadata": {},
   "outputs": [
    {
     "data": {
      "text/plain": [
       "count    12.000000\n",
       "mean     30.416667\n",
       "std      12.168950\n",
       "min      14.000000\n",
       "25%      21.750000\n",
       "50%      29.000000\n",
       "75%      43.250000\n",
       "max      47.000000\n",
       "Name: Total Marks, dtype: float64"
      ]
     },
     "execution_count": 23,
     "metadata": {},
     "output_type": "execute_result"
    }
   ],
   "source": [
    "maledata.describe()"
   ]
  },
  {
   "cell_type": "code",
   "execution_count": 24,
   "id": "ebea7ca2",
   "metadata": {},
   "outputs": [
    {
     "data": {
      "text/plain": [
       "count    16.000000\n",
       "mean     33.750000\n",
       "std      12.865976\n",
       "min      12.000000\n",
       "25%      25.500000\n",
       "50%      39.000000\n",
       "75%      43.500000\n",
       "max      50.000000\n",
       "Name: Total Marks, dtype: float64"
      ]
     },
     "execution_count": 24,
     "metadata": {},
     "output_type": "execute_result"
    }
   ],
   "source": [
    "femaledata.describe()"
   ]
  },
  {
   "cell_type": "markdown",
   "id": "961fb417",
   "metadata": {},
   "source": [
    ". The sample size is less than 30 ,we use t-test\n",
    ". Taking Hypothesis: Ho:The average score of male and female are equal\n",
    "                     Ha:The average score of male and female are not qual\n",
    " .Taking significance value as aplpha(α):0.05     "
   ]
  },
  {
   "cell_type": "code",
   "execution_count": 61,
   "id": "2cda716e",
   "metadata": {},
   "outputs": [
    {
     "name": "stdout",
     "output_type": "stream",
     "text": [
      "t=-0.694, p=0.494\n"
     ]
    }
   ],
   "source": [
    "\n",
    "stat, p = ttest_ind(maledata,femaledata)\n",
    "print('t=%.3f, p=%.3f' % (stat, p))\n"
   ]
  },
  {
   "cell_type": "markdown",
   "id": "b4b63ee3",
   "metadata": {},
   "source": [
    "There is a statistically significant difference in the average Total Marks between males and females, t= -0.694, p= 0.494.\n",
    "The p value greater than alpha (0.494>0.05) \n",
    "Accepting the Null Hypothesis ,the average score of male and female are  equal"
   ]
  },
  {
   "cell_type": "markdown",
   "id": "b2f082ed",
   "metadata": {},
   "source": [
    "3. Whether test preparation helps the students?"
   ]
  },
  {
   "cell_type": "code",
   "execution_count": 43,
   "id": "bd369c12",
   "metadata": {},
   "outputs": [],
   "source": [
    "completed=data[data['Test preparation']=='completed']['Total Marks']\n",
    "notcompleted=data[data['Test preparation']=='none']['Total Marks']"
   ]
  },
  {
   "cell_type": "code",
   "execution_count": 44,
   "id": "5db50744",
   "metadata": {},
   "outputs": [
    {
     "data": {
      "text/plain": [
       "count     7.000000\n",
       "mean     44.571429\n",
       "std       3.359422\n",
       "min      40.000000\n",
       "25%      43.000000\n",
       "50%      44.000000\n",
       "75%      46.000000\n",
       "max      50.000000\n",
       "Name: Total Marks, dtype: float64"
      ]
     },
     "execution_count": 44,
     "metadata": {},
     "output_type": "execute_result"
    }
   ],
   "source": [
    "completed.describe()"
   ]
  },
  {
   "cell_type": "code",
   "execution_count": 46,
   "id": "b316e5cc",
   "metadata": {},
   "outputs": [
    {
     "data": {
      "text/plain": [
       "count    21.000000\n",
       "mean     28.238095\n",
       "std      11.661495\n",
       "min      12.000000\n",
       "25%      18.000000\n",
       "50%      27.000000\n",
       "75%      38.000000\n",
       "max      48.000000\n",
       "Name: Total Marks, dtype: float64"
      ]
     },
     "execution_count": 46,
     "metadata": {},
     "output_type": "execute_result"
    }
   ],
   "source": [
    "notcompleted.describe()"
   ]
  },
  {
   "cell_type": "markdown",
   "id": "15417aa7",
   "metadata": {},
   "source": [
    "#Taking Hypothesis:\n",
    ". Null Hypothesis Ho:Test preparation doesn't helps the students that is the average score of students who completed the testpreparation <= not completed the test preparation\n",
    ". Alternative Hypothesis Ha:Test preparation helps the students (the average score of students who completed the testpreparation > not completed the test preparation)\n",
    ". Taking significance value as aplpha(α):0.05\n",
    "perform 1-tailed 2 sample test"
   ]
  },
  {
   "cell_type": "code",
   "execution_count": 62,
   "id": "d518110b",
   "metadata": {},
   "outputs": [
    {
     "name": "stdout",
     "output_type": "stream",
     "text": [
      "t=3.614, p=0.001\n"
     ]
    }
   ],
   "source": [
    "stat, p = ttest_ind(completed,notcompleted)\n",
    "print('t=%.3f, p=%.3f' % (stat, p))"
   ]
  },
  {
   "cell_type": "markdown",
   "id": "2d75a16a",
   "metadata": {},
   "source": [
    "Here, the p value is very small.The alpha value > p value so we can reject the Null Hypothesis.\n",
    "Alternative Hypothesis is true that is, Test preparation helps the students."
   ]
  }
 ],
 "metadata": {
  "kernelspec": {
   "display_name": "Python 3",
   "language": "python",
   "name": "python3"
  },
  "language_info": {
   "codemirror_mode": {
    "name": "ipython",
    "version": 3
   },
   "file_extension": ".py",
   "mimetype": "text/x-python",
   "name": "python",
   "nbconvert_exporter": "python",
   "pygments_lexer": "ipython3",
   "version": "3.8.8"
  }
 },
 "nbformat": 4,
 "nbformat_minor": 5
}
